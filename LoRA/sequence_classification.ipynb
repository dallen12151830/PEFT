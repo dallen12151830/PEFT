{
  "nbformat": 4,
  "nbformat_minor": 0,
  "metadata": {
    "colab": {
      "provenance": [],
      "gpuType": "A100",
      "machine_shape": "hm",
      "collapsed_sections": [
        "so0KSUKh4Q77",
        "DznpWOvM4uS8"
      ]
    },
    "kernelspec": {
      "name": "python3",
      "display_name": "Python 3"
    },
    "language_info": {
      "name": "python"
    },
    "accelerator": "GPU"
  },
  "cells": [
    {
      "cell_type": "markdown",
      "source": [
        "#### The SST-2 dataset is part of the GLUE benchmark and is commonly used to evaluate the sentiment analysis capabilities of pretrained language models.\n",
        "\n",
        "#### The original BERT base model on SST-2 task get 93.5% accuracy.\n",
        "https://arxiv.org/abs/1810.04805\n",
        "\n",
        "#### Method:\n",
        "\n",
        "In this study, we conducted a controlled comparison by training the model on datasets of varying sizes: 1,000, 8,000, and 56,000 samples. To ensure a fair evaluation, we maintained a balanced class distribution across the training, validation, and test sets. Importantly, the test set remained identical across all training configurations, allowing for a consistent and reliable assessment of model generalization. Only the size of the training data was varied, while the model architecture, training hyperparameters, and evaluation protocol were held constant throughout the experiments.\n",
        "\n",
        "#### Dataset Label Distribution\n",
        "\n",
        "| Dataset       | Total Samples | Label 0 Count | Label 1 Count |\n",
        "|---------------|----------------|----------------|----------------|\n",
        "| Train (1k)    | 1000           | 500           | 500           |\n",
        "| Train (8k)    | 8000           | 4000          | 4000          |\n",
        "| Train (56k)   | 56000          | 28000          | 28000          |\n",
        "| Validation    | 1000           | 500            | 500            |\n",
        "| Test          | 872            | 428            | 444            |\n"
      ],
      "metadata": {
        "id": "Zt17lhNk5y4s"
      }
    },
    {
      "cell_type": "markdown",
      "source": [
        "#### Mount Google Drive to access local directory"
      ],
      "metadata": {
        "id": "so0KSUKh4Q77"
      }
    },
    {
      "cell_type": "code",
      "source": [
        "from google.colab import drive\n",
        "drive.mount('/content/drive')"
      ],
      "metadata": {
        "colab": {
          "base_uri": "https://localhost:8080/"
        },
        "id": "EE2ZxoGb1t8E",
        "outputId": "39777e2a-a6fc-4eb1-d28a-0ec1e66dbe5b"
      },
      "execution_count": null,
      "outputs": [
        {
          "output_type": "stream",
          "name": "stdout",
          "text": [
            "Drive already mounted at /content/drive; to attempt to forcibly remount, call drive.mount(\"/content/drive\", force_remount=True).\n"
          ]
        }
      ]
    },
    {
      "cell_type": "markdown",
      "source": [
        "#### Install neccesary packages"
      ],
      "metadata": {
        "id": "DznpWOvM4uS8"
      }
    },
    {
      "cell_type": "code",
      "source": [
        "!pip install -U datasets # Install the Hugging Face `datasets` library"
      ],
      "metadata": {
        "colab": {
          "base_uri": "https://localhost:8080/"
        },
        "id": "O0GKouwJ4nG8",
        "outputId": "319733dd-2749-4bd8-a674-be6771e1dc61"
      },
      "execution_count": null,
      "outputs": [
        {
          "output_type": "stream",
          "name": "stdout",
          "text": [
            "Requirement already satisfied: datasets in /usr/local/lib/python3.11/dist-packages (3.6.0)\n",
            "Requirement already satisfied: filelock in /usr/local/lib/python3.11/dist-packages (from datasets) (3.18.0)\n",
            "Requirement already satisfied: numpy>=1.17 in /usr/local/lib/python3.11/dist-packages (from datasets) (2.0.2)\n",
            "Requirement already satisfied: pyarrow>=15.0.0 in /usr/local/lib/python3.11/dist-packages (from datasets) (18.1.0)\n",
            "Requirement already satisfied: dill<0.3.9,>=0.3.0 in /usr/local/lib/python3.11/dist-packages (from datasets) (0.3.7)\n",
            "Requirement already satisfied: pandas in /usr/local/lib/python3.11/dist-packages (from datasets) (2.2.2)\n",
            "Requirement already satisfied: requests>=2.32.2 in /usr/local/lib/python3.11/dist-packages (from datasets) (2.32.3)\n",
            "Requirement already satisfied: tqdm>=4.66.3 in /usr/local/lib/python3.11/dist-packages (from datasets) (4.67.1)\n",
            "Requirement already satisfied: xxhash in /usr/local/lib/python3.11/dist-packages (from datasets) (3.5.0)\n",
            "Requirement already satisfied: multiprocess<0.70.17 in /usr/local/lib/python3.11/dist-packages (from datasets) (0.70.15)\n",
            "Requirement already satisfied: fsspec<=2025.3.0,>=2023.1.0 in /usr/local/lib/python3.11/dist-packages (from fsspec[http]<=2025.3.0,>=2023.1.0->datasets) (2025.3.0)\n",
            "Requirement already satisfied: huggingface-hub>=0.24.0 in /usr/local/lib/python3.11/dist-packages (from datasets) (0.32.4)\n",
            "Requirement already satisfied: packaging in /usr/local/lib/python3.11/dist-packages (from datasets) (24.2)\n",
            "Requirement already satisfied: pyyaml>=5.1 in /usr/local/lib/python3.11/dist-packages (from datasets) (6.0.2)\n",
            "Requirement already satisfied: aiohttp!=4.0.0a0,!=4.0.0a1 in /usr/local/lib/python3.11/dist-packages (from fsspec[http]<=2025.3.0,>=2023.1.0->datasets) (3.11.15)\n",
            "Requirement already satisfied: typing-extensions>=3.7.4.3 in /usr/local/lib/python3.11/dist-packages (from huggingface-hub>=0.24.0->datasets) (4.14.0)\n",
            "Requirement already satisfied: hf-xet<2.0.0,>=1.1.2 in /usr/local/lib/python3.11/dist-packages (from huggingface-hub>=0.24.0->datasets) (1.1.2)\n",
            "Requirement already satisfied: charset-normalizer<4,>=2 in /usr/local/lib/python3.11/dist-packages (from requests>=2.32.2->datasets) (3.4.2)\n",
            "Requirement already satisfied: idna<4,>=2.5 in /usr/local/lib/python3.11/dist-packages (from requests>=2.32.2->datasets) (3.10)\n",
            "Requirement already satisfied: urllib3<3,>=1.21.1 in /usr/local/lib/python3.11/dist-packages (from requests>=2.32.2->datasets) (2.4.0)\n",
            "Requirement already satisfied: certifi>=2017.4.17 in /usr/local/lib/python3.11/dist-packages (from requests>=2.32.2->datasets) (2025.4.26)\n",
            "Requirement already satisfied: python-dateutil>=2.8.2 in /usr/local/lib/python3.11/dist-packages (from pandas->datasets) (2.9.0.post0)\n",
            "Requirement already satisfied: pytz>=2020.1 in /usr/local/lib/python3.11/dist-packages (from pandas->datasets) (2025.2)\n",
            "Requirement already satisfied: tzdata>=2022.7 in /usr/local/lib/python3.11/dist-packages (from pandas->datasets) (2025.2)\n",
            "Requirement already satisfied: aiohappyeyeballs>=2.3.0 in /usr/local/lib/python3.11/dist-packages (from aiohttp!=4.0.0a0,!=4.0.0a1->fsspec[http]<=2025.3.0,>=2023.1.0->datasets) (2.6.1)\n",
            "Requirement already satisfied: aiosignal>=1.1.2 in /usr/local/lib/python3.11/dist-packages (from aiohttp!=4.0.0a0,!=4.0.0a1->fsspec[http]<=2025.3.0,>=2023.1.0->datasets) (1.3.2)\n",
            "Requirement already satisfied: attrs>=17.3.0 in /usr/local/lib/python3.11/dist-packages (from aiohttp!=4.0.0a0,!=4.0.0a1->fsspec[http]<=2025.3.0,>=2023.1.0->datasets) (25.3.0)\n",
            "Requirement already satisfied: frozenlist>=1.1.1 in /usr/local/lib/python3.11/dist-packages (from aiohttp!=4.0.0a0,!=4.0.0a1->fsspec[http]<=2025.3.0,>=2023.1.0->datasets) (1.6.0)\n",
            "Requirement already satisfied: multidict<7.0,>=4.5 in /usr/local/lib/python3.11/dist-packages (from aiohttp!=4.0.0a0,!=4.0.0a1->fsspec[http]<=2025.3.0,>=2023.1.0->datasets) (6.4.4)\n",
            "Requirement already satisfied: propcache>=0.2.0 in /usr/local/lib/python3.11/dist-packages (from aiohttp!=4.0.0a0,!=4.0.0a1->fsspec[http]<=2025.3.0,>=2023.1.0->datasets) (0.3.1)\n",
            "Requirement already satisfied: yarl<2.0,>=1.17.0 in /usr/local/lib/python3.11/dist-packages (from aiohttp!=4.0.0a0,!=4.0.0a1->fsspec[http]<=2025.3.0,>=2023.1.0->datasets) (1.20.0)\n",
            "Requirement already satisfied: six>=1.5 in /usr/local/lib/python3.11/dist-packages (from python-dateutil>=2.8.2->pandas->datasets) (1.17.0)\n"
          ]
        }
      ]
    },
    {
      "cell_type": "code",
      "execution_count": null,
      "metadata": {
        "id": "0IauNybK1fQD"
      },
      "outputs": [],
      "source": [
        "!pip install -q -U transformers peft accelerate bitsandbytes\n",
        "from datasets import load_dataset, concatenate_datasets, DatasetDict\n",
        "from transformers import AutoTokenizer, AutoModelForSequenceClassification, TrainingArguments, Trainer\n",
        "from peft import get_peft_model, LoraConfig, TaskType, PeftModel\n",
        "from sklearn.metrics import accuracy_score, precision_recall_fscore_support\n",
        "from collections import Counter\n",
        "import torch\n",
        "from transformers import EarlyStoppingCallback\n",
        "import os\n",
        "from transformers import Trainer\n",
        "from sklearn.metrics import accuracy_score\n",
        "import numpy as np\n",
        "import pandas as pd"
      ]
    },
    {
      "cell_type": "markdown",
      "source": [
        "#### Load the dataset. Here, we take the GLUE SST2 dataset to evaluate the performaence of the model on a classification task."
      ],
      "metadata": {
        "id": "vvCvGzAb6uUP"
      }
    },
    {
      "cell_type": "code",
      "source": [
        "dataset = load_dataset(\"glue\", \"sst2\")\n",
        "print(dataset.shape)"
      ],
      "metadata": {
        "id": "kU-IMomt37EM",
        "colab": {
          "base_uri": "https://localhost:8080/"
        },
        "outputId": "4998ff3f-07c4-4d5c-af38-b4144732f4ba"
      },
      "execution_count": null,
      "outputs": [
        {
          "output_type": "stream",
          "name": "stdout",
          "text": [
            "{'train': (67349, 3), 'validation': (872, 3), 'test': (1821, 3)}\n"
          ]
        }
      ]
    },
    {
      "cell_type": "code",
      "source": [
        "dataset[\"test\"].shape\n",
        "dataset[\"test\"][0:5]"
      ],
      "metadata": {
        "colab": {
          "base_uri": "https://localhost:8080/"
        },
        "id": "7pTjSWiksQnB",
        "outputId": "d2defd4e-b451-4622-95d4-905e2f62b1c7"
      },
      "execution_count": null,
      "outputs": [
        {
          "output_type": "execute_result",
          "data": {
            "text/plain": [
              "{'sentence': ['uneasy mishmash of styles and genres .',\n",
              "  \"this film 's relationship to actual tension is the same as what christmas-tree flocking in a spray can is to actual snow : a poor -- if durable -- imitation .\",\n",
              "  'by the end of no such thing the audience , like beatrice , has a watchful affection for the monster .',\n",
              "  'director rob marshall went out gunning to make a great one .',\n",
              "  'lathan and diggs have considerable personal charm , and their screen rapport makes the old story seem new .'],\n",
              " 'label': [-1, -1, -1, -1, -1],\n",
              " 'idx': [0, 1, 2, 3, 4]}"
            ]
          },
          "metadata": {},
          "execution_count": 71
        }
      ]
    },
    {
      "cell_type": "code",
      "source": [
        "# Select the balanced training data and validation data\n",
        "# Step 1: Separate positive and negative samples\n",
        "pos_samples = dataset[\"train\"].filter(lambda x: x[\"label\"] == 1)\n",
        "neg_samples = dataset[\"train\"].filter(lambda x: x[\"label\"] == 0)\n",
        "print(\"training data positive number\", pos_samples.shape)\n",
        "print(\"training data negative number\", neg_samples.shape)\n",
        "\n",
        "# Step 2: Shuffle\n",
        "pos_samples = pos_samples.shuffle(seed=42)\n",
        "neg_samples = neg_samples.shuffle(seed=42)\n",
        "\n",
        "# Step 3: Create balanced splits\n",
        "n_train_each = 28000  # 28000 pos + 28000 neg = 56000\n",
        "n_val_each = 500     # 500 pos + 500 neg = 1000\n",
        "\n",
        "# Select training data and validation data\n",
        "train_data = concatenate_datasets([\n",
        "    pos_samples.select(range(n_train_each)),\n",
        "    neg_samples.select(range(n_train_each))\n",
        "])\n",
        "val_data = concatenate_datasets([\n",
        "    pos_samples.select(range(n_train_each, n_train_each + n_val_each)),\n",
        "    neg_samples.select(range(n_train_each, n_train_each + n_val_each))\n",
        "])\n",
        "\n",
        "# Final test: use dataset[\"validation\"] to be the test data\n",
        "test_data = dataset[\"validation\"]\n",
        "\n",
        "# Combine into a DatasetDict and shuffle splits\n",
        "custom_dataset = DatasetDict({\n",
        "    \"train\": train_data.shuffle(seed=42),\n",
        "    \"validation\": val_data.shuffle(seed=42),\n",
        "    \"test\": test_data\n",
        "})"
      ],
      "metadata": {
        "colab": {
          "base_uri": "https://localhost:8080/"
        },
        "id": "rkpUzOljxL0w",
        "outputId": "2ce0d698-44aa-49b5-dfba-507371d08906"
      },
      "execution_count": null,
      "outputs": [
        {
          "output_type": "stream",
          "name": "stdout",
          "text": [
            "training data positive number (37569, 3)\n",
            "training data negative number (29780, 3)\n"
          ]
        }
      ]
    },
    {
      "cell_type": "code",
      "source": [
        "# View combined dataset structure and count labels\n",
        "custom_dataset.shape\n",
        "custom_dataset[\"train\"][0:5]\n",
        "\n",
        "train_labels = custom_dataset[\"train\"][\"label\"]\n",
        "val_labels = custom_dataset[\"validation\"][\"label\"]\n",
        "test_labels = custom_dataset[\"test\"][\"label\"]\n",
        "\n",
        "print(\"Train Label Counts:\", Counter(train_labels))\n",
        "print(\"Validation Label Counts:\", Counter(val_labels))\n",
        "print(\"Test Label Counts:\", Counter(test_labels))"
      ],
      "metadata": {
        "colab": {
          "base_uri": "https://localhost:8080/"
        },
        "id": "qtZiim02ybxw",
        "outputId": "d9d27bff-e5b4-4b2b-81ab-6f47aea400c3"
      },
      "execution_count": null,
      "outputs": [
        {
          "output_type": "stream",
          "name": "stdout",
          "text": [
            "Train Label Counts: Counter({0: 28000, 1: 28000})\n",
            "Validation Label Counts: Counter({0: 500, 1: 500})\n",
            "Test Label Counts: Counter({1: 444, 0: 428})\n"
          ]
        }
      ]
    },
    {
      "cell_type": "code",
      "source": [
        "# Load the model tokenizer\n",
        "tokenizer = AutoTokenizer.from_pretrained(\"bert-base-uncased\")\n",
        "\n",
        "# Apply tokenizer to the dataset\n",
        "def tokenize(example):\n",
        "    return tokenizer(example[\"sentence\"], padding=\"max_length\", truncation=True)\n",
        "\n",
        "# Map the tokenizer to the dataset in batch\n",
        "encoded = custom_dataset.map(tokenize, batched=True)\n",
        "# Convert the specific columns of the encoded data to torch tensors\n",
        "encoded.set_format(type=\"torch\", columns=[\"input_ids\", \"attention_mask\", \"label\"])"
      ],
      "metadata": {
        "id": "IvhKgWpj8IN6"
      },
      "execution_count": null,
      "outputs": []
    },
    {
      "cell_type": "code",
      "source": [
        "# Create the directory to save the model weight and checkpoint\n",
        "working_dir = '/content/drive/MyDrive/DL_practice/PEFT Lora/classification work with lora'\n",
        "output_directory = os.path.join(working_dir, \"peft_lab_outputs\")"
      ],
      "metadata": {
        "id": "claqC5F2L-am"
      },
      "execution_count": null,
      "outputs": []
    },
    {
      "cell_type": "code",
      "source": [
        "class TrainerWithTrainMetrics(Trainer):\n",
        "    def __init__(self, *args, **kwargs):\n",
        "        super().__init__(*args, **kwargs)\n",
        "        self.train_preds = []\n",
        "        self.train_labels = []\n",
        "\n",
        "    def training_step(self, model, inputs, num_steps):  # For each batch\n",
        "        loss = super().training_step(model, inputs, num_steps)\n",
        "\n",
        "        # Forward pass on training data (in eval mode) to collect predictions\n",
        "        model.eval()\n",
        "        with torch.no_grad():\n",
        "            outputs = model(**inputs)\n",
        "            logits = outputs.logits\n",
        "            preds = torch.argmax(logits, dim=-1)\n",
        "            labels = inputs[\"labels\"]\n",
        "\n",
        "        self.train_preds.extend(preds.detach().cpu().numpy())\n",
        "        self.train_labels.extend(labels.detach().cpu().numpy())\n",
        "        model.train()\n",
        "\n",
        "        return loss\n",
        "\n",
        "    def on_epoch_end(self): # For each epoch\n",
        "        if self.train_preds and self.train_labels:\n",
        "            acc = accuracy_score(self.train_labels, self.train_preds)\n",
        "            print(f\"\\n[Training Accuracy at epoch end]: {acc:.4f}\")\n",
        "            metrics = {\"train_accuracy\": acc}\n",
        "            self.log(metrics) # Tell the Trainer to track this number\n",
        "            self.state.log_history.append(metrics) # Append the result to the output csv\n",
        "            self.train_preds.clear() # Clears the lists to start fresh for the next epoch\n",
        "            self.train_labels.clear() # Clears the lists to start fresh for the next epoch\n"
      ],
      "metadata": {
        "id": "QOhX2xkJ64Y5"
      },
      "execution_count": null,
      "outputs": []
    },
    {
      "cell_type": "code",
      "source": [
        "base_model = AutoModelForSequenceClassification.from_pretrained(\"bert-base-uncased\", num_labels=2)\n",
        "lora_config = LoraConfig(\n",
        "    r=8,\n",
        "    lora_alpha=16,\n",
        "    target_modules=[\"query\", \"value\"],\n",
        "    lora_dropout=0.1,\n",
        "    bias=\"none\",\n",
        "    task_type=TaskType.SEQ_CLS,\n",
        ")\n",
        "\n",
        "model = get_peft_model(base_model, lora_config)\n",
        "print(model.print_trainable_parameters())\n",
        "\n",
        "training_args = TrainingArguments(\n",
        "    output_dir=output_directory,\n",
        "    logging_dir=os.path.join(working_dir, \"logs\"),             # where to save logs\n",
        "    logging_strategy=\"epoch\",        # log once per epoch\n",
        "    eval_strategy=\"epoch\",     # evaluate once per epoch\n",
        "    save_strategy=\"epoch\",           # save best model each epoch\n",
        "    load_best_model_at_end=True,\n",
        "    report_to=\"none\",                # disable wandb/huggingface hub\n",
        "    # auto_find_batch_size=True, # Find a correct batch size that fits the size of Data.\n",
        "    learning_rate= 5e-4, # Higher learning rate than full fine-tuning.\n",
        "    num_train_epochs=5,\n",
        "    per_device_train_batch_size=32,\n",
        "    per_device_eval_batch_size=32,\n",
        ")\n",
        "\n",
        "def compute_metrics(eval_pred):\n",
        "    logits, labels = eval_pred\n",
        "    predictions = logits.argmax(axis=1)\n",
        "    acc = accuracy_score(labels, predictions)\n",
        "    return {\n",
        "        'accuracy': acc\n",
        "    }\n",
        "\n",
        "trainer = TrainerWithTrainMetrics(\n",
        "    model=model,\n",
        "    args=training_args,\n",
        "    train_dataset=encoded[\"train\"],\n",
        "    eval_dataset=encoded[\"validation\"],\n",
        "    tokenizer=tokenizer,\n",
        "    compute_metrics=compute_metrics,\n",
        "    callbacks=[EarlyStoppingCallback(early_stopping_patience=2)]\n",
        ")"
      ],
      "metadata": {
        "id": "w1ZQ779H1jOi",
        "colab": {
          "base_uri": "https://localhost:8080/"
        },
        "outputId": "06111b55-0ce9-485d-de05-33bfe4995c5d"
      },
      "execution_count": null,
      "outputs": [
        {
          "output_type": "stream",
          "name": "stderr",
          "text": [
            "Some weights of BertForSequenceClassification were not initialized from the model checkpoint at bert-base-uncased and are newly initialized: ['classifier.bias', 'classifier.weight']\n",
            "You should probably TRAIN this model on a down-stream task to be able to use it for predictions and inference.\n",
            "<ipython-input-76-3658221776>:3: FutureWarning: `tokenizer` is deprecated and will be removed in version 5.0.0 for `TrainerWithTrainMetrics.__init__`. Use `processing_class` instead.\n",
            "  super().__init__(*args, **kwargs)\n",
            "No label_names provided for model class `PeftModelForSequenceClassification`. Since `PeftModel` hides base models input arguments, if label_names is not given, label_names can't be set automatically within `Trainer`. Note that empty label_names list will be used instead.\n"
          ]
        },
        {
          "output_type": "stream",
          "name": "stdout",
          "text": [
            "trainable params: 296,450 || all params: 109,780,228 || trainable%: 0.2700\n",
            "None\n"
          ]
        }
      ]
    },
    {
      "cell_type": "code",
      "source": [
        "trainer.train()"
      ],
      "metadata": {
        "id": "Ill7NV_c1pq5",
        "colab": {
          "base_uri": "https://localhost:8080/",
          "height": 235
        },
        "outputId": "837658d3-8d65-4215-a53c-0708212baec4"
      },
      "execution_count": null,
      "outputs": [
        {
          "output_type": "display_data",
          "data": {
            "text/plain": [
              "<IPython.core.display.HTML object>"
            ],
            "text/html": [
              "\n",
              "    <div>\n",
              "      \n",
              "      <progress value='7000' max='8750' style='width:300px; height:20px; vertical-align: middle;'></progress>\n",
              "      [7000/8750 1:12:58 < 18:14, 1.60 it/s, Epoch 4/5]\n",
              "    </div>\n",
              "    <table border=\"1\" class=\"dataframe\">\n",
              "  <thead>\n",
              " <tr style=\"text-align: left;\">\n",
              "      <th>Epoch</th>\n",
              "      <th>Training Loss</th>\n",
              "      <th>Validation Loss</th>\n",
              "      <th>Accuracy</th>\n",
              "    </tr>\n",
              "  </thead>\n",
              "  <tbody>\n",
              "    <tr>\n",
              "      <td>1</td>\n",
              "      <td>0.266700</td>\n",
              "      <td>0.201562</td>\n",
              "      <td>0.924000</td>\n",
              "    </tr>\n",
              "    <tr>\n",
              "      <td>2</td>\n",
              "      <td>0.187200</td>\n",
              "      <td>0.171617</td>\n",
              "      <td>0.935000</td>\n",
              "    </tr>\n",
              "    <tr>\n",
              "      <td>3</td>\n",
              "      <td>0.153600</td>\n",
              "      <td>0.174861</td>\n",
              "      <td>0.943000</td>\n",
              "    </tr>\n",
              "    <tr>\n",
              "      <td>4</td>\n",
              "      <td>0.130600</td>\n",
              "      <td>0.183409</td>\n",
              "      <td>0.944000</td>\n",
              "    </tr>\n",
              "  </tbody>\n",
              "</table><p>"
            ]
          },
          "metadata": {}
        },
        {
          "output_type": "execute_result",
          "data": {
            "text/plain": [
              "TrainOutput(global_step=7000, training_loss=0.18450872148786274, metrics={'train_runtime': 4379.313, 'train_samples_per_second': 63.937, 'train_steps_per_second': 1.998, 'total_flos': 5.914087194624e+16, 'train_loss': 0.18450872148786274, 'epoch': 4.0})"
            ]
          },
          "metadata": {},
          "execution_count": 79
        }
      ]
    },
    {
      "cell_type": "code",
      "source": [
        "# Save the model\n",
        "model_path = os.path.join(output_directory, f\"data_1000_lora\")\n",
        "\n",
        "trainer.model.save_pretrained(model_path)\n",
        "\n",
        "log_history = trainer.state.log_history\n",
        "log_df = pd.DataFrame(log_history)\n",
        "log_df.to_csv(working_dir + \"/training_log.csv\", index=False)"
      ],
      "metadata": {
        "id": "639iC0T9AQa7"
      },
      "execution_count": null,
      "outputs": []
    },
    {
      "cell_type": "code",
      "source": [
        "# Load the Model\n",
        "loaded_model = PeftModel.from_pretrained(base_model,\n",
        "                                        model_path,\n",
        "                                        is_trainable=False)"
      ],
      "metadata": {
        "id": "z-76hucyAoMc",
        "colab": {
          "base_uri": "https://localhost:8080/"
        },
        "outputId": "9bf5a11f-4f98-41f4-d58c-fec3d46535bb"
      },
      "execution_count": null,
      "outputs": [
        {
          "output_type": "stream",
          "name": "stderr",
          "text": [
            "/usr/local/lib/python3.11/dist-packages/peft/tuners/tuners_utils.py:167: UserWarning: Already found a `peft_config` attribute in the model. This will lead to having multiple adapters in the model. Make sure to know what you are doing!\n",
            "  warnings.warn(\n"
          ]
        }
      ]
    },
    {
      "cell_type": "code",
      "source": [
        "def compute_metrics(eval_pred):\n",
        "    logits, labels = eval_pred\n",
        "    predictions = logits.argmax(axis=1)\n",
        "    precision, recall, f1, _ = precision_recall_fscore_support(labels, predictions, average='binary')\n",
        "    acc = accuracy_score(labels, predictions)\n",
        "    return {\n",
        "        'accuracy': acc,\n",
        "        'f1': f1,\n",
        "        'recall': recall,\n",
        "        'precision': precision\n",
        "    }\n",
        "\n",
        "trainer = Trainer(\n",
        "    model=loaded_model,\n",
        "    args=training_args,\n",
        "    train_dataset=encoded[\"train\"],\n",
        "    eval_dataset=encoded[\"test\"],\n",
        "    tokenizer=tokenizer,\n",
        "    compute_metrics=compute_metrics\n",
        ")"
      ],
      "metadata": {
        "id": "_Nkug3-IKjKG",
        "colab": {
          "base_uri": "https://localhost:8080/"
        },
        "outputId": "d2995f9e-3754-4261-9cc4-4f5ac97c6839"
      },
      "execution_count": null,
      "outputs": [
        {
          "output_type": "stream",
          "name": "stderr",
          "text": [
            "<ipython-input-82-3757751598>:13: FutureWarning: `tokenizer` is deprecated and will be removed in version 5.0.0 for `Trainer.__init__`. Use `processing_class` instead.\n",
            "  trainer = Trainer(\n",
            "No label_names provided for model class `PeftModelForSequenceClassification`. Since `PeftModel` hides base models input arguments, if label_names is not given, label_names can't be set automatically within `Trainer`. Note that empty label_names list will be used instead.\n"
          ]
        }
      ]
    },
    {
      "cell_type": "code",
      "source": [
        "results = trainer.evaluate()\n",
        "print(f\"Accuracy: {results['eval_accuracy']:.4f}\")\n",
        "print(f\"Recall:   {results['eval_recall']:.4f}\")\n",
        "print(f\"F1 Score: {results['eval_f1']:.4f}\")\n",
        "print(f\"Precision:{results['eval_precision']:.4f}\")"
      ],
      "metadata": {
        "id": "nJ2exuL_8uo_",
        "colab": {
          "base_uri": "https://localhost:8080/",
          "height": 106
        },
        "outputId": "7abcc9e2-b6a5-44af-c8b2-aa32b70ee00d"
      },
      "execution_count": null,
      "outputs": [
        {
          "output_type": "display_data",
          "data": {
            "text/plain": [
              "<IPython.core.display.HTML object>"
            ],
            "text/html": [
              "\n",
              "    <div>\n",
              "      \n",
              "      <progress value='32' max='32' style='width:300px; height:20px; vertical-align: middle;'></progress>\n",
              "      [32/32 00:05]\n",
              "    </div>\n",
              "    "
            ]
          },
          "metadata": {}
        },
        {
          "output_type": "stream",
          "name": "stdout",
          "text": [
            "Accuracy: 0.9350\n",
            "Recall:   0.9260\n",
            "F1 Score: 0.9344\n",
            "Precision:0.9430\n"
          ]
        }
      ]
    },
    {
      "cell_type": "code",
      "source": [
        "print(results)"
      ],
      "metadata": {
        "id": "L8G284FcCLkd",
        "colab": {
          "base_uri": "https://localhost:8080/"
        },
        "outputId": "2af9eca3-3594-4e98-f73e-c7d406b67c44"
      },
      "execution_count": null,
      "outputs": [
        {
          "output_type": "stream",
          "name": "stdout",
          "text": [
            "{'eval_loss': 0.17161670327186584, 'eval_model_preparation_time': 0.0053, 'eval_accuracy': 0.935, 'eval_f1': 0.934409687184662, 'eval_recall': 0.926, 'eval_precision': 0.9429735234215886, 'eval_runtime': 6.2042, 'eval_samples_per_second': 161.181, 'eval_steps_per_second': 5.158}\n"
          ]
        }
      ]
    },
    {
      "cell_type": "code",
      "source": [
        "import numpy as np\n",
        "from sklearn.metrics import accuracy_score, confusion_matrix, ConfusionMatrixDisplay\n",
        "import matplotlib.pyplot as plt\n",
        "\n",
        "predictions_output = trainer.predict(encoded[\"test\"])\n",
        "logits = predictions_output.predictions\n",
        "labels = predictions_output.label_ids\n",
        "preds = np.argmax(logits, axis=-1)\n",
        "\n",
        "cm = confusion_matrix(labels, preds)\n",
        "disp = ConfusionMatrixDisplay(confusion_matrix=cm)\n",
        "disp.plot(cmap=\"Blues\", xticks_rotation=45)\n",
        "plt.title(\"Confusion Matrix\")\n",
        "plt.show()\n",
        "\n",
        "Sample = len(encoded[\"validation\"])\n",
        "print(f\"Total Samples: {Sample}\")"
      ],
      "metadata": {
        "id": "zbXQk_FqC7dg",
        "colab": {
          "base_uri": "https://localhost:8080/",
          "height": 491
        },
        "outputId": "491e72ee-3fdb-431d-a153-1e76402858df"
      },
      "execution_count": null,
      "outputs": [
        {
          "output_type": "display_data",
          "data": {
            "text/plain": [
              "<IPython.core.display.HTML object>"
            ],
            "text/html": []
          },
          "metadata": {}
        },
        {
          "output_type": "display_data",
          "data": {
            "text/plain": [
              "<Figure size 640x480 with 2 Axes>"
            ],
            "image/png": "[encoded data removed]"
          },
          "metadata": {}
        },
        {
          "output_type": "stream",
          "name": "stdout",
          "text": [
            "Total Samples: 1000\n"
          ]
        }
      ]
    },
    {
      "cell_type": "code",
      "source": [
        "import matplotlib.pyplot as plt\n",
        "\n",
        "df = pd.read_csv(working_dir + \"/training_log.csv\")\n",
        "\n",
        "train_loss = df[df[\"loss\"].notna()][[\"epoch\", \"loss\"]].drop_duplicates(\"epoch\")\n",
        "\n",
        "evaluation_loss = df[df[\"eval_loss\"].notna()][[\"epoch\", \"eval_loss\", \"eval_accuracy\"]].drop_duplicates(\"epoch\")\n",
        "\n",
        "merged_df = pd.merge(train_loss, evaluation_loss, on=\"epoch\", how=\"inner\")\n",
        "\n",
        "plt.plot(merged_df[\"epoch\"], merged_df[\"loss\"], label=\"Training Loss\")\n",
        "plt.plot(merged_df[\"epoch\"], merged_df[\"eval_loss\"], label=\"Validation Loss\")\n",
        "plt.xlabel(\"Epoch\")\n",
        "plt.ylabel(\"Loss\")\n",
        "plt.xticks(ticks=merged_df[\"epoch\"], labels=merged_df[\"epoch\"].astype(int))  # show only integer epochs\n",
        "plt.legend()\n",
        "plt.title(\"Training vs Validation Loss\")\n",
        "plt.grid(True)\n",
        "plt.savefig(working_dir + \"/loss.pdf\")\n",
        "plt.show()\n",
        "\n",
        "if \"eval_accuracy\" in merged_df.columns:\n",
        "    plt.plot(merged_df[\"epoch\"], merged_df[\"eval_accuracy\"], label=\"Validation Accuracy\")\n",
        "    plt.xlabel(\"Epoch\")\n",
        "    plt.ylabel(\"Accuracy\")\n",
        "    plt.xticks(ticks=merged_df[\"epoch\"], labels=merged_df[\"epoch\"].astype(int))\n",
        "    plt.legend()\n",
        "    plt.title(\"Validation Accuracy\")\n",
        "    plt.grid(True)\n",
        "    plt.savefig(working_dir + \"/acc.pdf\")\n",
        "    plt.show()"
      ],
      "metadata": {
        "colab": {
          "base_uri": "https://localhost:8080/",
          "height": 927
        },
        "id": "mk1gh9qC0W34",
        "outputId": "8401736d-9b20-4540-8fd6-52574f742ae1"
      },
      "execution_count": null,
      "outputs": [
        {
          "output_type": "display_data",
          "data": {
            "text/plain": [
              "<Figure size 640x480 with 1 Axes>"
            ],
            "image/png": "[encoded data removed]"
          },
          "metadata": {}
        },
        {
          "output_type": "display_data",
          "data": {
            "text/plain": [
              "<Figure size 640x480 with 1 Axes>"
            ],
            "image/png": "[encoded data removed]"
          },
          "metadata": {}
        }
      ]
    },
    {
      "cell_type": "markdown",
      "source": [
        "#### Discussion\n",
        "\n",
        "| Training Data Size | Loss  | Accuracy | F1-score |\n",
        "|--------------------|-------|----------|----------|\n",
        "| 1000               | 0.364 | 0.852    | 0.853    |\n",
        "| 8000               | 0.247 | 0.896    | 0.898    |\n",
        "| 56000              | 0.234 | 0.915    | 0.916    |\n",
        "\n",
        "The table above summarizes the model performance on the test set using different amounts of training data. As the training data size increases from 1,000 to 56,000, both the loss and performance metrics improve consistently. Specifically, the test accuracy rises from 87.3% to 93.5%, and the F1-score improves from 0.875 to 0.934. This indicates that increasing the training data significantly enhances the model's ability to generalize, resulting in more accurate and balanced predictions.\n",
        "\n",
        "Since the model architecture and evaluation dataset remain constant across all experiments, the inference time (~6.2 seconds) is effectively unchanged and thus excluded from the comparison. The focus is instead placed on how data scale influences classification performance.\n",
        "\n",
        "According to the original BERT paper, the BERT<sub>BASE</sub> model achieves 93.5% accuracy on the SST-2 task using full fine-tuning. In our experiments, we reach the same level of accuracy using LoRA-based parameter-efficient fine-tuning, while updating only 0.27% of the model's parameters. This demonstrates that LoRA can retain competitive performance with significantly reduced training cost and memory footprint.\n",
        "\n"
      ],
      "metadata": {
        "id": "QxqtlCowLhXs"
      }
    }
  ]
}